{
  "cells": [
    {
      "cell_type": "code",
      "execution_count": null,
      "metadata": {
        "id": "QBpw-GudlaSK"
      },
      "outputs": [],
      "source": [
        "#cambialo in base a dove lo hai messo tu\n",
        "drive_folder = '/home/anto/University/Driving-Visual-Attention/data'"
      ]
    },
    {
      "cell_type": "code",
      "execution_count": null,
      "metadata": {
        "id": "nxlEUhfXkn9A"
      },
      "outputs": [],
      "source": [
        "import cv2\n",
        "import os\n",
        "import subprocess\n",
        "import os\n",
        "from tqdm import tqdm\n",
        "import shutil\n",
        "\n",
        "def extract_frames(video_path, output_folder):\n",
        "    os.makedirs(output_folder) #exist_ok=True\n",
        "\n",
        "    # Use FFmpeg to extract frames\n",
        "    command = [\n",
        "        'ffmpeg',\n",
        "        '-analyzeduration', '100M',  # Aumenta il valore di analyzeduration\n",
        "        '-probesize', '100M',        # Aumenta il valore di probesize\n",
        "        '-i', video_path,\n",
        "        os.path.join(output_folder, 'frame_%04d.jpg')\n",
        "    ]\n",
        "\n",
        "    result= subprocess.run(command, stderr=subprocess.PIPE)\n",
        "\n",
        "    if result.returncode != 0:\n",
        "      print(f\"Errore durante l'estrazione dei frame:\\n{result.stderr.decode('utf-8')}\")\n",
        "\n",
        "    return"
      ]
    },
    {
      "cell_type": "code",
      "execution_count": null,
      "metadata": {
        "id": "LCyI8Dpjwrdb"
      },
      "outputs": [],
      "source": [
        "#ESTRAI FRAME CON CV2\n",
        "def extract_frames_with_cv2(video_path, output_folder):\n",
        "    os.makedirs(output_folder, exist_ok=True)\n",
        "\n",
        "    # Apre il video\n",
        "    cap = cv2.VideoCapture(video_path)\n",
        "\n",
        "    # Contatore per numerare i frame\n",
        "    count = 0\n",
        "\n",
        "    while cap.isOpened():\n",
        "        # Legge un frame\n",
        "        ret, frame = cap.read()\n",
        "\n",
        "        if ret:\n",
        "            # Salva il frame come immagine\n",
        "            frame_filename = os.path.join(output_folder, f'frame_{count:04d}.jpg')\n",
        "            success=cv2.imwrite(frame_filename, frame)\n",
        "            if not success:\n",
        "              print(f\"Errore nel salvataggio dell'immagine {frame_filename}\")\n",
        "\n",
        "            count += 1\n",
        "        else:\n",
        "            break\n",
        "\n",
        "    # Rilascia il video\n",
        "    cap.release()\n",
        "\n",
        "    return"
      ]
    },
    {
      "cell_type": "code",
      "execution_count": null,
      "metadata": {
        "id": "QGiUPrTfkxis"
      },
      "outputs": [],
      "source": [
        "def process_dataset(drive_folder, new_folder, dataset_type='videos-aligned'):\n",
        "\n",
        "    for driver in os.listdir(os.path.join(drive_folder, dataset_type)):\n",
        "\n",
        "        driver_folder_path = os.path.join(drive_folder, new_folder, driver)  # Path to the driver folder in new_folder\n",
        "        if os.path.exists(driver_folder_path):  # Check if the driver folder has been created\n",
        "            print(f\"Skipping {driver}, folder already exists.\")\n",
        "            continue\n",
        "\n",
        "        print(f'--> Processing for {driver}')\n",
        "        nsamples = len(os.listdir(os.path.join(drive_folder, dataset_type, driver, 'driver_view')))\n",
        "        nsamples_range = list(range(1, nsamples + 1))\n",
        "        for sample_no in tqdm(nsamples_range):\n",
        "            driver_view_path = os.path.join(drive_folder, dataset_type, driver, 'driver_view', 'sample' + str(sample_no) + '.avi')\n",
        "            road_view_path = os.path.join(drive_folder, dataset_type, driver, 'road_view', 'sample' + str(sample_no) + '.avi')\n",
        "            gaze_point_path = os.path.join(drive_folder, dataset_type, driver, 'road_view', 'sample' + str(sample_no) + '.npy')\n",
        "            extract_frames_with_cv2(driver_view_path, os.path.join(drive_folder,new_folder,driver, 'driver_view', 'sample' + str(sample_no)))\n",
        "            extract_frames_with_cv2(road_view_path, os.path.join(drive_folder, new_folder,driver, 'road_view', 'sample' + str(sample_no)))\n",
        "            shutil.copy(gaze_point_path, os.path.join(drive_folder, new_folder,driver, 'road_view', 'sample' + str(sample_no) + '.npy'))\n",
        "\n",
        "    print(\"Processing completed.\")"
      ]
    },
    {
      "cell_type": "code",
      "execution_count": null,
      "metadata": {
        "colab": {
          "base_uri": "https://localhost:8080/"
        },
        "id": "s6s3XWSypgBQ",
        "outputId": "3f741183-3ff9-496f-dc09-87af8244b554"
      },
      "outputs": [
        {
          "name": "stdout",
          "output_type": "stream",
          "text": [
            "Skipping driver17, folder already exists.\n",
            "Skipping driver2, folder already exists.\n",
            "Skipping driver14, folder already exists.\n",
            "Skipping driver19, folder already exists.\n",
            "Skipping driver10, folder already exists.\n",
            "Skipping driver11, folder already exists.\n",
            "Skipping driver24, folder already exists.\n",
            "Skipping driver12, folder already exists.\n",
            "Skipping driver7, folder already exists.\n",
            "Skipping driver16, folder already exists.\n",
            "Skipping driver8, folder already exists.\n",
            "Skipping driver13, folder already exists.\n",
            "Skipping driver18, folder already exists.\n",
            "Skipping driver5, folder already exists.\n",
            "Skipping driver3, folder already exists.\n",
            "Skipping driver21, folder already exists.\n",
            "Skipping driver22, folder already exists.\n",
            "Skipping driver23, folder already exists.\n",
            "Skipping driver20, folder already exists.\n",
            "--> Processing for driver15\n"
          ]
        },
        {
          "name": "stderr",
          "output_type": "stream",
          "text": [
            "100%|██████████| 112/112 [32:20<00:00, 17.32s/it]"
          ]
        },
        {
          "name": "stdout",
          "output_type": "stream",
          "text": [
            "Processing completed.\n"
          ]
        },
        {
          "name": "stderr",
          "output_type": "stream",
          "text": [
            "\n"
          ]
        }
      ],
      "source": [
        "process_dataset(drive_folder , new_folder = 'images_final')\n",
        "#fermato a DRIVER 3 ELIMINARE CARTELLLA DRIVER 3"
      ]
    }
  ],
  "metadata": {
    "colab": {
      "provenance": []
    },
    "kernelspec": {
      "display_name": "Python 3",
      "name": "python3"
    },
    "language_info": {
      "name": "python"
    }
  },
  "nbformat": 4,
  "nbformat_minor": 0
}

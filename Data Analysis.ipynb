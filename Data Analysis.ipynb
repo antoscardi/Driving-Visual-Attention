{
 "cells": [
  {
   "cell_type": "markdown",
   "metadata": {},
   "source": [
    "### **Imports**"
   ]
  },
  {
   "cell_type": "code",
   "execution_count": 1,
   "metadata": {},
   "outputs": [],
   "source": [
    "from histograms import *\n",
    "from utility import *\n",
    "from scipy.stats import wasserstein_distance\n",
    "import seaborn as sns"
   ]
  },
  {
   "cell_type": "code",
   "execution_count": 2,
   "metadata": {},
   "outputs": [],
   "source": [
    "seed_everything(42)"
   ]
  },
  {
   "cell_type": "code",
   "execution_count": 3,
   "metadata": {},
   "outputs": [],
   "source": [
    "input_path = '/home/anto/University/Driving-Visual-Attention/data/images_aligned'"
   ]
  },
  {
   "cell_type": "markdown",
   "metadata": {},
   "source": [
    "## **Data Analysis**"
   ]
  },
  {
   "cell_type": "markdown",
   "metadata": {},
   "source": [
    "Extract 20 random images, one for each driver and perform a color distribution analysis."
   ]
  },
  {
   "cell_type": "code",
   "execution_count": 12,
   "metadata": {},
   "outputs": [
    {
     "name": "stdout",
     "output_type": "stream",
     "text": [
      "driver20 /home/anto/University/Driving-Visual-Attention/data/images_aligned/driver20/driver_view/sample105/frame_0011.jpg\n",
      "driver22 /home/anto/University/Driving-Visual-Attention/data/images_aligned/driver22/driver_view/sample105/frame_0118.jpg\n",
      "driver21 /home/anto/University/Driving-Visual-Attention/data/images_aligned/driver21/driver_view/sample105/frame_0080.jpg\n",
      "driver3 /home/anto/University/Driving-Visual-Attention/data/images_aligned/driver3/driver_view/sample105/frame_0108.jpg\n",
      "driver13 /home/anto/University/Driving-Visual-Attention/data/images_aligned/driver13/driver_view/sample105/frame_0128.jpg\n",
      "driver23 /home/anto/University/Driving-Visual-Attention/data/images_aligned/driver23/driver_view/sample105/frame_0174.jpg\n",
      "driver5 /home/anto/University/Driving-Visual-Attention/data/images_aligned/driver5/driver_view/sample105/frame_0056.jpg\n",
      "driver8 /home/anto/University/Driving-Visual-Attention/data/images_aligned/driver8/driver_view/sample105/frame_0118.jpg\n",
      "driver15 /home/anto/University/Driving-Visual-Attention/data/images_aligned/driver15/driver_view/sample105/frame_0118.jpg\n",
      "driver18 /home/anto/University/Driving-Visual-Attention/data/images_aligned/driver18/driver_view/sample105/frame_0118.jpg\n",
      "driver12 /home/anto/University/Driving-Visual-Attention/data/images_aligned/driver12/driver_view/sample105/frame_0039.jpg\n",
      "driver10 /home/anto/University/Driving-Visual-Attention/data/images_aligned/driver10/driver_view/sample105/frame_0017.jpg\n",
      "driver17 /home/anto/University/Driving-Visual-Attention/data/images_aligned/driver17/driver_view/sample105/frame_0118.jpg\n",
      "driver2 /home/anto/University/Driving-Visual-Attention/data/images_aligned/driver2/driver_view/sample105/frame_0128.jpg\n",
      "driver24 /home/anto/University/Driving-Visual-Attention/data/images_aligned/driver24/driver_view/sample105/frame_0118.jpg\n",
      "driver16 /home/anto/University/Driving-Visual-Attention/data/images_aligned/driver16/driver_view/sample105/frame_0118.jpg\n",
      "driver19 /home/anto/University/Driving-Visual-Attention/data/images_aligned/driver19/driver_view/sample105/frame_0118.jpg\n",
      "driver7 /home/anto/University/Driving-Visual-Attention/data/images_aligned/driver7/driver_view/sample105/frame_0009.jpg\n",
      "driver14 /home/anto/University/Driving-Visual-Attention/data/images_aligned/driver14/driver_view/sample105/frame_0118.jpg\n",
      "driver11 /home/anto/University/Driving-Visual-Attention/data/images_aligned/driver11/driver_view/sample105/frame_0118.jpg\n"
     ]
    }
   ],
   "source": [
    "# Extract 20 random paths, one for each driver\n",
    "def extract_drivers_photos(main_folder, display = False):\n",
    "    \n",
    "    # List of dictionaries to store paths\n",
    "    paths = []\n",
    "    # Iterate over subdirectories in the main directory\n",
    "    for driver in os.listdir(main_folder):\n",
    "        seed_everything(42)\n",
    "        driver_view_path = os.path.join(main_folder, driver, 'driver_view')\n",
    "        samples = [folder for folder in os.listdir(driver_view_path) if os.path.isdir(os.path.join(driver_view_path, folder))] \n",
    "        random.shuffle(samples)\n",
    "        random_sample = samples[1]\n",
    "        image_files = [file for file in os.listdir(os.path.join(driver_view_path, random_sample)) if os.path.isdir(os.path.join(driver_view_path, random_sample))]\n",
    "        random.shuffle(image_files)\n",
    "        image_path = image_files[1]\n",
    "        driver_dict = {'driver_num': driver, 'img_path': os.path.join(driver_view_path, random_sample, image_path)}\n",
    "        if display:\n",
    "            print(driver_dict['driver_num'], driver_dict['img_path'])\n",
    "        paths.append(driver_dict)\n",
    "        seed_everything(42)\n",
    "    return paths\n",
    "\n",
    "drivers_paths = extract_drivers_photos(input_path, display=True)"
   ]
  },
  {
   "cell_type": "markdown",
   "metadata": {},
   "source": [
    "Calculate the histograms of one image. Using 2 different approaches:\n",
    "- Compute 3 different histograms, one for Red, Green, Blue channel.\n",
    "- Transform into HSV and compute a 2D histogram using only Hue and Saturation channels:\n",
    "  - **Hue:** Represents the type of color, often described as the dominant wavelength of light. It is measured in degrees on a color wheel, with values ranging from 0 to 359. The 0 and 360 degrees correspond to red, while the other hues are distributed around the color wheel.\n",
    "    - Red has a hue value around 0 or 360 degrees.\n",
    "    - Green has a hue value around 120 degrees.\n",
    "    - Blue has a hue value around 240 degrees.\n",
    "  - **Saturation:** Refers to the intensity or vividness of a color. It quantifies the amount of white light mixed with a pure hue. A saturation value of 0 represents a shade of gray, and a value of 1 (or 100%) represents a fully saturated color.\n"
   ]
  },
  {
   "cell_type": "markdown",
   "metadata": {},
   "source": [
    "Compute the color distribution aka find the colors in an image and plot the distribution."
   ]
  },
  {
   "cell_type": "markdown",
   "metadata": {},
   "source": [
    "Choose a random driver"
   ]
  },
  {
   "cell_type": "code",
   "execution_count": null,
   "metadata": {},
   "outputs": [],
   "source": [
    "driver_number = 1\n",
    "random_image_path = drivers_paths[driver_number]['img_path']"
   ]
  },
  {
   "cell_type": "markdown",
   "metadata": {},
   "source": [
    "Plot Histograms"
   ]
  },
  {
   "cell_type": "code",
   "execution_count": null,
   "metadata": {},
   "outputs": [],
   "source": [
    "r,g,b = RGB_histograms(random_image_path,choose_dim='1D',display = True)"
   ]
  },
  {
   "cell_type": "code",
   "execution_count": null,
   "metadata": {},
   "outputs": [],
   "source": [
    "hist_3D = RGB_histograms(random_image_path,choose_dim='3D',display = True)"
   ]
  },
  {
   "cell_type": "code",
   "execution_count": null,
   "metadata": {},
   "outputs": [],
   "source": [
    "hsv_hist_2D = HSV_histogram(random_image_path,choose_dim='3D',display = True)"
   ]
  },
  {
   "cell_type": "code",
   "execution_count": null,
   "metadata": {},
   "outputs": [],
   "source": [
    "hist_2d = HSV_histogram(random_image_path,choose_dim='2D',display = True)"
   ]
  },
  {
   "cell_type": "code",
   "execution_count": null,
   "metadata": {},
   "outputs": [],
   "source": [
    "h_hist, s_hist, v_hist = HSV_histogram(random_image_path,choose_dim='1D',display = True)"
   ]
  },
  {
   "cell_type": "code",
   "execution_count": null,
   "metadata": {},
   "outputs": [],
   "source": [
    "color_dist = color_distribution(random_image_path, display = True)"
   ]
  },
  {
   "cell_type": "markdown",
   "metadata": {},
   "source": [
    "Calculate the histograms for all 20 images and compare the distance metrics.\n",
    "We write different functions that calculate the different metrics of 2 histograms."
   ]
  },
  {
   "cell_type": "code",
   "execution_count": null,
   "metadata": {},
   "outputs": [],
   "source": [
    "def retrieve_2_histograms(image_path1, image_path2, dimension, hist_type):\n",
    "    if dimension not in [\"1D\", \"2D\", \"3D\"]:\n",
    "        raise ValueError(\"Expected dimension must be '1D' or '2D' or '3D\")\n",
    "\n",
    "    if hist_type == 'RGB':\n",
    "        if dimension == '1D':\n",
    "            r1, g1, b1 = RGB_histograms(image_path1, choose_dim=dimension)\n",
    "            r2, g2, b2 = RGB_histograms(image_path2, choose_dim=dimension)\n",
    "            return [r1, g1, b1, r2, g2, b2]\n",
    "        elif dimension == '3D':\n",
    "            rgb_3d_1 = RGB_histograms(image_path1, choose_dim=dimension)\n",
    "            rgb_3d_2 = RGB_histograms(image_path2, choose_dim=dimension)\n",
    "            return [rgb_3d_1, rgb_3d_2]\n",
    "    elif hist_type == 'HSV':\n",
    "        if dimension == '1D':\n",
    "            h1, s1, v1 = HSV_histogram(image_path1, choose_dim=dimension)\n",
    "            h2, s2, v2 = HSV_histogram(image_path2, choose_dim=dimension)\n",
    "            return [h1, s1, v1, h2, s2, v2]\n",
    "        elif dimension == '2D':\n",
    "            hs_1 = HSV_histogram(image_path1, choose_dim=dimension)\n",
    "            hs_2 = HSV_histogram(image_path2, choose_dim=dimension)\n",
    "            return [hs_1, hs_2]\n",
    "        elif dimension == '3D':\n",
    "            hsv_3d_1 = HSV_histogram(image_path1, choose_dim=dimension)\n",
    "            hsv_3d_2 = HSV_histogram(image_path2, choose_dim=dimension)\n",
    "            return [hsv_3d_1, hsv_3d_2]\n",
    "    else:\n",
    "        raise ValueError(\"Invalid histogram type\")\n"
   ]
  },
  {
   "cell_type": "code",
   "execution_count": null,
   "metadata": {},
   "outputs": [],
   "source": [
    "def EMD(input,do_print = False):\n",
    "    if len(input) == 6:\n",
    "        histograms = {}\n",
    "        distances = {}\n",
    "        histograms['image_a'] = {'channel_1': input[0], 'channel_2': input[1], 'channel_3': input[2]}\n",
    "        histograms['image_b'] = {'channel_1': input[3], 'channel_2': input[4], 'channel_3': input[5]}\n",
    "\n",
    "        bins_1 = np.arange(len(input[0]))\n",
    "        bins_2 = np.arange(len(input[1]))\n",
    "        bins_3 = np.arange(len(input[2]))\n",
    "\n",
    "        distances['channel_1'] = wasserstein_distance(bins_1,bins_1,histograms['image_a']['channel_1'], histograms['image_b']['channel_1'])\n",
    "        distances['channel_2'] = wasserstein_distance(bins_2,bins_2,histograms['image_a']['channel_2'], histograms['image_b']['channel_2'])\n",
    "        distances['channel_3'] = wasserstein_distance(bins_3,bins_3,histograms['image_a']['channel_3'], histograms['image_b']['channel_3'])\n",
    "        distances['mean'] =  np.mean([distances['channel_1'], distances['channel_2'], distances['channel_3']])\n",
    "\n",
    "        if do_print:\n",
    "            print(\"Wasserstein Distances:\", distances)\n",
    "        return distances\n",
    "\n",
    "    elif len(input) == 2:\n",
    "        hist_img_a = input[0]\n",
    "        hist_img_b = input[1]\n",
    "\n",
    "        # Wassertein Distance, we need to specify the number of bins\n",
    "        bins = np.arange(len(hist_img_a))\n",
    "        wa_distance = wasserstein_distance(bins,bins,hist_img_a, hist_img_b)\n",
    "\n",
    "        if do_print:\n",
    "            print(\"Wasserstein Distance:\", wa_distance)\n",
    "        return wa_distance\n",
    "\n",
    "    else:\n",
    "        raise ValueError(\"Wrong number of histograms inserted\")\n",
    "\n",
    "def Chi_S(input,do_print = False):\n",
    "    if len(input) == 6:\n",
    "        histograms = {}\n",
    "        distances = {}\n",
    "        histograms['image_a'] = {'channel_1': input[0], 'channel_2': input[1], 'channel_3': input[2]}\n",
    "        histograms['image_b'] = {'channel_1': input[3], 'channel_2': input[4], 'channel_3': input[5]}\n",
    "\n",
    "        bins_1 = np.arange(len(input[0]))\n",
    "        bins_2 = np.arange(len(input[1]))\n",
    "        bins_3 = np.arange(len(input[2]))\n",
    "\n",
    "        distances['channel_1'] = cv2.compareHist(histograms['image_a']['channel_1'], histograms['image_b']['channel_1'], cv2.HISTCMP_CHISQR)\n",
    "        distances['channel_2'] = cv2.compareHist(histograms['image_a']['channel_2'], histograms['image_b']['channel_2'], cv2.HISTCMP_CHISQR)\n",
    "        distances['channel_3'] = cv2.compareHist(histograms['image_a']['channel_3'], histograms['image_b']['channel_3'], cv2.HISTCMP_CHISQR)\n",
    "        distances['mean'] = np.mean([distances['channel_1'], distances['channel_2'], distances['channel_3']])\n",
    "\n",
    "        if do_print:\n",
    "            print(\"Chi-Squared Distances:\", distances)\n",
    "        return distances\n",
    "\n",
    "    elif len(input) == 2:\n",
    "        hist_img_a = input[0]\n",
    "        hist_img_b = input[1]\n",
    "\n",
    "        # Chi-Squared Distance\n",
    "        chi_squared_distance = cv2.compareHist(hist_img_a, hist_img_b, cv2.HISTCMP_CHISQR)\n",
    "        if do_print:\n",
    "            print(\"Chi-Squared Distance:\", chi_squared_distance)\n",
    "        return chi_squared_distance\n",
    "\n",
    "    else:\n",
    "        raise ValueError(\"Wrong number of histograms inserted\")\n",
    "\n",
    "def KL(input,do_print = False):\n",
    "    if len(input) == 6:\n",
    "        histograms = {}\n",
    "        distances = {}\n",
    "        histograms['image_a'] = {'channel_1': input[0], 'channel_2': input[1], 'channel_3': input[2]}\n",
    "        histograms['image_b'] = {'channel_1': input[3], 'channel_2': input[4], 'channel_3': input[5]}\n",
    "\n",
    "        bins_1 = np.arange(len(input[0]))\n",
    "        bins_2 = np.arange(len(input[1]))\n",
    "        bins_3 = np.arange(len(input[2]))\n",
    "\n",
    "        distances['channel_1'] = cv2.compareHist(histograms['image_a']['channel_1'], histograms['image_b']['channel_1'], cv2.HISTCMP_KL_DIV)\n",
    "        distances['channel_2'] = cv2.compareHist(histograms['image_a']['channel_2'], histograms['image_b']['channel_2'], cv2.HISTCMP_KL_DIV)\n",
    "        distances['channel_3'] = cv2.compareHist(histograms['image_a']['channel_3'], histograms['image_b']['channel_3'], cv2.HISTCMP_KL_DIV)\n",
    "        distances['mean'] = np.mean([distances['channel_1'], distances['channel_2'], distances['channel_3']])\n",
    "\n",
    "        if do_print:\n",
    "            print(\"Kullback-Leibler Divergences:\", distances)\n",
    "        return distances\n",
    "\n",
    "    elif len(input) == 2:\n",
    "        hist_img_a = input[0]\n",
    "        hist_img_b = input[1]\n",
    "\n",
    "        # Kullback-Leibler Divergence\n",
    "        kl_divergence = cv2.compareHist(hist_img_a, hist_img_b, cv2.HISTCMP_KL_DIV)\n",
    "        if do_print:\n",
    "            print(\"Kullback-Leibler Divergence:\", kl_divergence)\n",
    "        return kl_divergence\n",
    "\n",
    "    else:\n",
    "        raise ValueError(\"Wrong number of histograms inserted\")\n"
   ]
  },
  {
   "cell_type": "code",
   "execution_count": null,
   "metadata": {},
   "outputs": [],
   "source": [
    "output = retrieve_2_histograms(random_image_path,random_image_path,'1D','RGB')\n",
    "distance = Chi_S(output,do_print=True)"
   ]
  },
  {
   "cell_type": "code",
   "execution_count": null,
   "metadata": {},
   "outputs": [],
   "source": [
    "def plot_matrix(matrix, title, figsize=(8, 6)):\n",
    "    fig, ax = plt.subplots(figsize=figsize)\n",
    "    sns.heatmap(matrix, cmap='viridis', annot=True, fmt=\".0f\", xticklabels=False, yticklabels=False, annot_kws={\"size\": 10}, ax=ax)\n",
    "    plt.title(title)\n",
    "    plt.show()\n",
    "    return\n",
    "\n",
    "\n",
    "def compare_images(dict_image_paths, dimension, hist_type):\n",
    "    num_images = len(dict_image_paths)\n",
    "    # Create a matrix to store the comparison results\n",
    "    earth_mover_matrix = np.zeros((num_images, num_images))\n",
    "    chi_squared_matrix = np.zeros((num_images, num_images))\n",
    "    kl_divergence_matrix = np.zeros((num_images, num_images))\n",
    "\n",
    "    for i in range(num_images - 1):\n",
    "        for j in range(i + 1, num_images):\n",
    "            # Calculate histograms for the current pair of images\n",
    "            output_histograms = retrieve_2_histograms(dict_image_paths[i]['img_path'],dict_image_paths[j]['img_path'], dimension=dimension, hist_type= hist_type)\n",
    "            symmetric_histograms = retrieve_2_histograms(dict_image_paths[j]['img_path'],dict_image_paths[i]['img_path'], dimension=dimension, hist_type= hist_type)\n",
    "\n",
    "            # Compare histograms using the three distance metrics\n",
    "            earth_mover_distance = EMD(output_histograms)\n",
    "            chi_squared_distance = Chi_S(output_histograms)\n",
    "            kl_divergence = KL(output_histograms)\n",
    "            # Compute the Symetrics\n",
    "            chi_s_symm = Chi_S(symmetric_histograms)\n",
    "            kl_symm = KL(symmetric_histograms)\n",
    "            \n",
    "            if dimension == '3D' or dimension == '2D':\n",
    "                earth_mover_matrix[i, j] = earth_mover_distance\n",
    "                chi_squared_matrix[i, j] = chi_squared_distance\n",
    "                kl_divergence_matrix[i, j] = kl_divergence\n",
    "                #KL  and Chi-Squared are not symmetric\n",
    "                chi_squared_matrix[j, i] = chi_s_symm\n",
    "                kl_divergence_matrix[j, i] = kl_symm\n",
    "\n",
    "            elif dimension == '1D':\n",
    "                earth_mover_matrix[i, j] = earth_mover_distance['mean']\n",
    "                chi_squared_matrix[i, j] = chi_squared_distance['mean']\n",
    "                kl_divergence_matrix[i, j] = kl_divergence['mean']\n",
    "                #KL  and Chi-Squared are not symmetric\n",
    "                chi_squared_matrix[j, i] = chi_s_symm['mean']\n",
    "                kl_divergence_matrix[j, i] = kl_symm['mean']\n",
    "            else:\n",
    "                raise ValueError(\"Wrong number of dimensions\")\n",
    "\n",
    "\n",
    "    # Plot the matrices using seaborn\n",
    "    plot_matrix(earth_mover_matrix, \"Earth Mover's Distance Matrix\")\n",
    "    plot_matrix(chi_squared_matrix, \"Chi-Squared Distance Matrix\")\n",
    "    plot_matrix(kl_divergence_matrix, \"Kullback-Leibler Divergence Matrix\")\n",
    "    return\n"
   ]
  },
  {
   "cell_type": "code",
   "execution_count": null,
   "metadata": {},
   "outputs": [],
   "source": [
    "compare_images(drivers_paths,'3D','RGB')"
   ]
  },
  {
   "cell_type": "code",
   "execution_count": null,
   "metadata": {},
   "outputs": [],
   "source": [
    "compare_images(drivers_paths,'1D','RGB')"
   ]
  },
  {
   "cell_type": "code",
   "execution_count": null,
   "metadata": {},
   "outputs": [],
   "source": [
    "compare_images(drivers_paths,'1D','HSV')"
   ]
  },
  {
   "cell_type": "code",
   "execution_count": null,
   "metadata": {},
   "outputs": [],
   "source": [
    "compare_images(drivers_paths,'2D','HSV')"
   ]
  },
  {
   "cell_type": "code",
   "execution_count": null,
   "metadata": {},
   "outputs": [],
   "source": [
    "compare_images(drivers_paths,'3D','HSV')"
   ]
  }
 ],
 "metadata": {
  "kernelspec": {
   "display_name": "base",
   "language": "python",
   "name": "python3"
  },
  "language_info": {
   "codemirror_mode": {
    "name": "ipython",
    "version": 3
   },
   "file_extension": ".py",
   "mimetype": "text/x-python",
   "name": "python",
   "nbconvert_exporter": "python",
   "pygments_lexer": "ipython3",
   "version": "3.8.18"
  },
  "orig_nbformat": 4
 },
 "nbformat": 4,
 "nbformat_minor": 2
}
